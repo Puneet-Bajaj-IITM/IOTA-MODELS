{
  "nbformat": 4,
  "nbformat_minor": 0,
  "metadata": {
    "colab": {
      "provenance": [],
      "authorship_tag": "ABX9TyOBeMMSJYkI8pC84ynm7DW4",
      "include_colab_link": true
    },
    "kernelspec": {
      "name": "python3",
      "display_name": "Python 3"
    },
    "language_info": {
      "name": "python"
    }
  },
  "cells": [
    {
      "cell_type": "markdown",
      "metadata": {
        "id": "view-in-github",
        "colab_type": "text"
      },
      "source": [
        "<a href=\"https://colab.research.google.com/github/Puneet-Bajaj-IITM/IOTA-MODELS/blob/main/Server.ipynb\" target=\"_parent\"><img src=\"https://colab.research.google.com/assets/colab-badge.svg\" alt=\"Open In Colab\"/></a>"
      ]
    },
    {
      "cell_type": "code",
      "source": [
        "%pip install ipfshttpclient iota cryptography aiohttp nio flask"
      ],
      "metadata": {
        "id": "gVU4aOkw7piv"
      },
      "execution_count": null,
      "outputs": []
    },
    {
      "cell_type": "code",
      "execution_count": null,
      "metadata": {
        "id": "JBpNCPF82WHZ"
      },
      "outputs": [],
      "source": [
        "import json\n",
        "import ipfshttpclient\n",
        "from iota import Iota, ProposedTransaction, Address, Tag, TryteString\n",
        "\n",
        "# IPFS Client\n",
        "ipfs_client = ipfshttpclient.connect()\n",
        "\n",
        "# IOTA Client (Replace with your IOTA node URL)\n",
        "api = Iota(\"https://nodes.devnet.iota.org:443\", seed=\"YOUR_SEED_HERE\")\n",
        "\n",
        "def upload_model_to_public_iota(model_name, weights_path, config_path):\n",
        "    # Upload to IPFS\n",
        "    weights_cid = ipfs_client.add(weights_path)['Hash']\n",
        "    config_cid = ipfs_client.add(config_path)['Hash']\n",
        "\n",
        "    # Metadata for the model\n",
        "    metadata = {\n",
        "        \"model_name\": model_name,\n",
        "        \"weights_cid\": weights_cid,\n",
        "        \"config_cid\": config_cid\n",
        "    }\n",
        "\n",
        "    # Save metadata to IOTA\n",
        "    metadata_trytes = TryteString.from_unicode(json.dumps(metadata))\n",
        "    [address] = api.get_new_addresses(count=1)['addresses']\n",
        "\n",
        "    txn = ProposedTransaction(\n",
        "        address=Address(address),\n",
        "        value=0,\n",
        "        tag=Tag(b\"MODEL_PUBLIC_UPLOAD\"),\n",
        "        message=metadata_trytes\n",
        "    )\n",
        "    api.send_transfer(transfers=[txn])\n",
        "\n",
        "    return {\n",
        "        \"transaction_hash\": txn.hash,\n",
        "        \"weights_cid\": weights_cid,\n",
        "        \"config_cid\": config_cid\n",
        "    }\n"
      ]
    },
    {
      "cell_type": "code",
      "source": [
        "import json\n",
        "import ipfshttpclient\n",
        "\n",
        "\n",
        "# Registry File (for IPFS-based registry)\n",
        "REGISTRY_FILE = \"model_registry.json\"\n",
        "\n",
        "# Initialize an empty registry\n",
        "def initialize_registry():\n",
        "    registry = {}\n",
        "    with open(REGISTRY_FILE, \"w\") as f:\n",
        "        json.dump(registry, f)\n",
        "    cid = ipfs_client.add(REGISTRY_FILE)[\"Hash\"]\n",
        "    print(f\"Initialized registry with CID: {cid}\")\n",
        "    return cid\n",
        "\n",
        "def update_registry(model_name, transaction_hash):\n",
        "    # Fetch the existing registry\n",
        "    ipfs_client.get(REGISTRY_FILE, target=REGISTRY_FILE)\n",
        "    with open(REGISTRY_FILE, \"r\") as f:\n",
        "        registry = json.load(f)\n",
        "\n",
        "    # Add the new model\n",
        "    registry[model_name] = transaction_hash\n",
        "\n",
        "    # Update the registry on IPFS\n",
        "    with open(REGISTRY_FILE, \"w\") as f:\n",
        "        json.dump(registry, f)\n",
        "    cid = ipfs_client.add(REGISTRY_FILE)[\"Hash\"]\n",
        "    print(f\"Updated registry with CID: {cid}\")\n",
        "    return cid\n",
        "\n",
        "\n"
      ],
      "metadata": {
        "id": "Dpx5HXiN8gOw"
      },
      "execution_count": null,
      "outputs": []
    },
    {
      "cell_type": "code",
      "source": [
        "@app.route(\"/fetch_model\", methods=[\"GET\"])\n",
        "def fetch_model():\n",
        "    \"\"\"Fetch model metadata by name or transaction hash.\"\"\"\n",
        "    model_name = request.args.get(\"model_name\")\n",
        "    transaction_hash = request.args.get(\"transaction_hash\")\n",
        "\n",
        "    if not model_name and not transaction_hash:\n",
        "        return jsonify({\"error\": \"Provide either model_name or transaction_hash\"}), 400\n",
        "\n",
        "    try:\n",
        "        # Resolve transaction hash from registry if model_name is provided\n",
        "        if model_name:\n",
        "            ipfs_client.get(REGISTRY_FILE, target=REGISTRY_FILE)\n",
        "            with open(REGISTRY_FILE, \"r\") as f:\n",
        "                registry = json.load(f)\n",
        "\n",
        "            if model_name not in registry:\n",
        "                return jsonify({\"error\": \"Model name not found in registry\"}), 404\n",
        "\n",
        "            transaction_hash = registry[model_name]\n",
        "\n",
        "        # Fetch metadata from IOTA\n",
        "        transaction = iota_client.get_trytes([transaction_hash])[\"trytes\"][0]\n",
        "        metadata = json.loads(TryteString(transaction.signature_message_fragment).decode())\n",
        "\n",
        "        model_name = metadata[\"model_name\"]\n",
        "        weights_cid = metadata[\"weights_cid\"]\n",
        "        config_cid = metadata[\"config_cid\"]\n",
        "\n",
        "        # Download from IPFS\n",
        "        weights_path = f\"{model_name}_weights.pth\"\n",
        "        config_path = f\"{model_name}_config.json\"\n",
        "\n",
        "        ipfs_client.get(weights_cid, target=weights_path)\n",
        "        ipfs_client.get(config_cid, target=config_path)\n",
        "\n",
        "        return jsonify({\n",
        "            \"model_name\": model_name,\n",
        "            \"weights_path\": weights_path,\n",
        "            \"config_path\": config_path,\n",
        "            \"weights_cid\": weights_cid,\n",
        "            \"config_cid\": config_cid,\n",
        "        })\n",
        "    except Exception as e:\n",
        "        return jsonify({\"error\": str(e)}), 500\n"
      ],
      "metadata": {
        "id": "SXOrF_Af67pc"
      },
      "execution_count": null,
      "outputs": []
    },
    {
      "cell_type": "code",
      "source": [
        "import asyncio\n",
        "from nio import AsyncClient\n",
        "\n",
        "async def propose_update(room_id, model_name, transaction_hash, new_weights_cid, new_config_cid):\n",
        "    client = AsyncClient(\"https://matrix.org\", \"@username:matrix.org\")\n",
        "    await client.login(\"PASSWORD\")\n",
        "\n",
        "    message = (\n",
        "        f\"Proposal to update model '{model_name}':\\n\"\n",
        "        f\"Transaction Hash: {transaction_hash}\\n\"\n",
        "        f\"New Weights CID: {new_weights_cid}\\n\"\n",
        "        f\"New Config CID: {new_config_cid}\\n\"\n",
        "        \"Vote with 'yes' or 'no'.\"\n",
        "    )\n",
        "\n",
        "    await client.room_send(\n",
        "        room_id=room_id,\n",
        "        message_type=\"m.room.message\",\n",
        "        content={\"msgtype\": \"m.text\", \"body\": message}\n",
        "    )\n",
        "    await client.logout()\n"
      ],
      "metadata": {
        "id": "Pex9gQ0e7BBE"
      },
      "execution_count": null,
      "outputs": []
    },
    {
      "cell_type": "code",
      "source": [
        "@app.route(\"/add_model\", methods=[\"POST\"])\n",
        "def add_model():\n",
        "    \"\"\"Add a new model and update the registry.\"\"\"\n",
        "    try:\n",
        "        data = request.json\n",
        "        model_name = data[\"model_name\"]\n",
        "        weights_path = data[\"weights_path\"]\n",
        "        config_path = data[\"config_path\"]\n",
        "\n",
        "        # Upload to IPFS\n",
        "        weights_cid = ipfs_client.add(weights_path)[\"Hash\"]\n",
        "        config_cid = ipfs_client.add(config_path)[\"Hash\"]\n",
        "\n",
        "        # Save metadata to IOTA\n",
        "        metadata = {\n",
        "            \"model_name\": model_name,\n",
        "            \"weights_cid\": weights_cid,\n",
        "            \"config_cid\": config_cid,\n",
        "        }\n",
        "        metadata_trytes = TryteString.from_unicode(json.dumps(metadata))\n",
        "        [address] = iota_client.get_new_addresses(count=1)[\"addresses\"]\n",
        "\n",
        "        txn = ProposedTransaction(\n",
        "            address=Address(address),\n",
        "            value=0,\n",
        "            tag=Tag(b\"MODEL_ADD\"),\n",
        "            message=metadata_trytes,\n",
        "        )\n",
        "        result = iota_client.send_transfer(transfers=[txn])\n",
        "\n",
        "        # Update the registry with the new model\n",
        "        transaction_hash = result[\"bundle\"][0].hash\n",
        "        registry_cid = update_registry(model_name, str(transaction_hash))\n",
        "\n",
        "        return jsonify({\n",
        "            \"transaction_hash\": transaction_hash,\n",
        "            \"weights_cid\": weights_cid,\n",
        "            \"config_cid\": config_cid,\n",
        "            \"registry_cid\": registry_cid,\n",
        "        })\n",
        "    except Exception as e:\n",
        "        return jsonify({\"error\": str(e)}), 500\n"
      ],
      "metadata": {
        "id": "MF535eEq7B0t"
      },
      "execution_count": null,
      "outputs": []
    },
    {
      "cell_type": "code",
      "source": [
        "curl -X POST \"http://localhost:5000/add_model\" \\\n",
        "     -H \"Content-Type: application/json\" \\\n",
        "     -d '{\n",
        "         \"model_name\": \"example_model\",\n",
        "         \"weights_path\": \"example_weights.pth\",\n",
        "         \"config_path\": \"example_config.json\"\n",
        "     }'\n"
      ],
      "metadata": {
        "id": "f8t_6fYd8yEg"
      },
      "execution_count": null,
      "outputs": []
    },
    {
      "cell_type": "code",
      "source": [
        "curl \"http://localhost:5000/fetch_model?model_name=example_model\"\n"
      ],
      "metadata": {
        "id": "Tynwu1Pj8y7T"
      },
      "execution_count": null,
      "outputs": []
    }
  ]
}